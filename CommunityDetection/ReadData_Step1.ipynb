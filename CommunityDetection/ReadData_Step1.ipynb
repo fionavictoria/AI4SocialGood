{
 "cells": [
  {
   "cell_type": "markdown",
   "id": "f60df48d",
   "metadata": {},
   "source": [
    "# Convert all the .plt trajectory files of 182 users to a command csv file"
   ]
  },
  {
   "cell_type": "code",
   "execution_count": 1,
   "id": "544e852c",
   "metadata": {},
   "outputs": [],
   "source": [
    "import os\n",
    "import datetime\n",
    "import pandas as pd\n",
    "from tqdm import tqdm\n",
    "\n",
    "\n",
    "main_directory = \"/data/fiona123/GeolifeTrajectories/Data\"\n",
    "directories = os.listdir(main_directory)\n",
    "\n",
    "plt_files = []\n",
    "for subfolder in directories:\n",
    "    traj_dir = main_directory + \"/\" + subfolder + \"/Trajectory/\"\n",
    "    traj_files = os.listdir(traj_dir)\n",
    "    for file in traj_files:\n",
    "        traj_files_path = traj_dir + file\n",
    "        plt_files.append(traj_files_path)"
   ]
  },
  {
   "cell_type": "code",
   "execution_count": 2,
   "id": "acfacc77",
   "metadata": {},
   "outputs": [
    {
     "name": "stderr",
     "output_type": "stream",
     "text": [
      "100%|██████████| 18670/18670 [05:15<00:00, 59.16it/s]\n"
     ]
    }
   ],
   "source": [
    "def load_df(file):\n",
    "    subfolder = file.split('/')[-3] \n",
    "    df = pd.read_csv(file, skiprows = 6, header = None, names = header)\n",
    "    df['subfolder'] = subfolder\n",
    "    df[\"date\"] = pd.to_datetime(df[\"date\"])\n",
    "    df[\"time\"] = pd.to_timedelta(df[\"time\"])\n",
    "    df[\"datetime\"] = df[\"date\"] + df[\"time\"]\n",
    "    \n",
    "    df['month'] = df['datetime'].dt.month\n",
    "    df['year'] = df['datetime'].dt.year\n",
    "    df['ym'] = df['year'].astype(str) + \"_\" + df['month'].astype(str)\n",
    "    df.drop('month', axis=1, inplace=True)\n",
    "    df.drop('year', axis=1, inplace=True)\n",
    "    \n",
    "    df.drop('null', axis=1, inplace=True)\n",
    "    df.drop('days', axis=1, inplace=True)\n",
    "    df.drop('date', axis=1, inplace=True)\n",
    "    df.drop('time', axis=1, inplace=True)\n",
    "\n",
    "    return df\n",
    "\n",
    "header = ['lat', 'lng', 'null', 'alt', 'days', 'date', 'time']\n",
    "list_df_traj = []\n",
    "\n",
    "\n",
    "for file in tqdm(plt_files):\n",
    "    list_df_traj.append(load_df(file))\n",
    "\n",
    "df_traj = pd.concat(list_df_traj)"
   ]
  },
  {
   "cell_type": "code",
   "execution_count": 3,
   "id": "2d9b81e6",
   "metadata": {},
   "outputs": [
    {
     "name": "stdout",
     "output_type": "stream",
     "text": [
      "         lat         lng  alt subfolder            datetime      ym\n",
      "0  39.975347  116.324503  0.0       093 2008-08-15 19:32:28  2008_8\n",
      "1  39.975347  116.324503  0.0       093 2008-08-15 19:32:30  2008_8\n",
      "2  39.975353  116.324497  0.0       093 2008-08-15 19:32:32  2008_8\n",
      "3  39.975382  116.324448  0.0       093 2008-08-15 19:32:34  2008_8\n",
      "4  39.975440  116.324373  0.0       093 2008-08-15 19:32:36  2008_8\n"
     ]
    }
   ],
   "source": [
    "print(df_traj.head())"
   ]
  },
  {
   "cell_type": "code",
   "execution_count": 4,
   "id": "74bcd09e",
   "metadata": {},
   "outputs": [],
   "source": [
    "df_traj.to_csv(\"/data/fiona123/GeolifeTrajectories/Data.csv\", encoding='utf-8')"
   ]
  }
 ],
 "metadata": {
  "kernelspec": {
   "display_name": "Python 3",
   "language": "python",
   "name": "python3"
  },
  "language_info": {
   "codemirror_mode": {
    "name": "ipython",
    "version": 3
   },
   "file_extension": ".py",
   "mimetype": "text/x-python",
   "name": "python",
   "nbconvert_exporter": "python",
   "pygments_lexer": "ipython3",
   "version": "3.6.8"
  }
 },
 "nbformat": 4,
 "nbformat_minor": 5
}
